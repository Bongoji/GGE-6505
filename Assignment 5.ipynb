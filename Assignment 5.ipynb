{
 "cells": [
  {
   "cell_type": "markdown",
   "metadata": {},
   "source": [
    "# •\tData Exploration and visualization:"
   ]
  },
  {
   "cell_type": "markdown",
   "metadata": {
    "id": "VqAzMGzIVw4a"
   },
   "source": [
    "a)\tExplain the data. Find the features in the dataset. Print their names and dimensions. \n",
    "\n",
    "\n"
   ]
  },
  {
   "cell_type": "code",
   "execution_count": 26,
   "metadata": {
    "colab": {
     "base_uri": "https://localhost:8080/",
     "height": 1000
    },
    "id": "acqBidjaVX7u",
    "outputId": "57a9cdcd-6d64-443d-bab6-5da750b3de3d"
   },
   "outputs": [
    {
     "data": {
      "text/html": [
       "<div>\n",
       "<style scoped>\n",
       "    .dataframe tbody tr th:only-of-type {\n",
       "        vertical-align: middle;\n",
       "    }\n",
       "\n",
       "    .dataframe tbody tr th {\n",
       "        vertical-align: top;\n",
       "    }\n",
       "\n",
       "    .dataframe thead th {\n",
       "        text-align: right;\n",
       "    }\n",
       "</style>\n",
       "<table border=\"1\" class=\"dataframe\">\n",
       "  <thead>\n",
       "    <tr style=\"text-align: right;\">\n",
       "      <th></th>\n",
       "      <th>dispatching_base_number</th>\n",
       "      <th>date</th>\n",
       "      <th>active_vehicles</th>\n",
       "      <th>trips</th>\n",
       "    </tr>\n",
       "  </thead>\n",
       "  <tbody>\n",
       "    <tr>\n",
       "      <th>0</th>\n",
       "      <td>B02512</td>\n",
       "      <td>1/1/2015</td>\n",
       "      <td>190</td>\n",
       "      <td>1132</td>\n",
       "    </tr>\n",
       "    <tr>\n",
       "      <th>1</th>\n",
       "      <td>B02765</td>\n",
       "      <td>1/1/2015</td>\n",
       "      <td>225</td>\n",
       "      <td>1765</td>\n",
       "    </tr>\n",
       "    <tr>\n",
       "      <th>2</th>\n",
       "      <td>B02764</td>\n",
       "      <td>1/1/2015</td>\n",
       "      <td>3427</td>\n",
       "      <td>29421</td>\n",
       "    </tr>\n",
       "    <tr>\n",
       "      <th>3</th>\n",
       "      <td>B02682</td>\n",
       "      <td>1/1/2015</td>\n",
       "      <td>945</td>\n",
       "      <td>7679</td>\n",
       "    </tr>\n",
       "    <tr>\n",
       "      <th>4</th>\n",
       "      <td>B02617</td>\n",
       "      <td>1/1/2015</td>\n",
       "      <td>1228</td>\n",
       "      <td>9537</td>\n",
       "    </tr>\n",
       "    <tr>\n",
       "      <th>...</th>\n",
       "      <td>...</td>\n",
       "      <td>...</td>\n",
       "      <td>...</td>\n",
       "      <td>...</td>\n",
       "    </tr>\n",
       "    <tr>\n",
       "      <th>349</th>\n",
       "      <td>B02764</td>\n",
       "      <td>2/28/2015</td>\n",
       "      <td>3952</td>\n",
       "      <td>39812</td>\n",
       "    </tr>\n",
       "    <tr>\n",
       "      <th>350</th>\n",
       "      <td>B02617</td>\n",
       "      <td>2/28/2015</td>\n",
       "      <td>1372</td>\n",
       "      <td>14022</td>\n",
       "    </tr>\n",
       "    <tr>\n",
       "      <th>351</th>\n",
       "      <td>B02682</td>\n",
       "      <td>2/28/2015</td>\n",
       "      <td>1386</td>\n",
       "      <td>14472</td>\n",
       "    </tr>\n",
       "    <tr>\n",
       "      <th>352</th>\n",
       "      <td>B02512</td>\n",
       "      <td>2/28/2015</td>\n",
       "      <td>230</td>\n",
       "      <td>1803</td>\n",
       "    </tr>\n",
       "    <tr>\n",
       "      <th>353</th>\n",
       "      <td>B02765</td>\n",
       "      <td>2/28/2015</td>\n",
       "      <td>747</td>\n",
       "      <td>7753</td>\n",
       "    </tr>\n",
       "  </tbody>\n",
       "</table>\n",
       "<p>354 rows × 4 columns</p>\n",
       "</div>"
      ],
      "text/plain": [
       "    dispatching_base_number       date  active_vehicles  trips\n",
       "0                    B02512   1/1/2015              190   1132\n",
       "1                    B02765   1/1/2015              225   1765\n",
       "2                    B02764   1/1/2015             3427  29421\n",
       "3                    B02682   1/1/2015              945   7679\n",
       "4                    B02617   1/1/2015             1228   9537\n",
       "..                      ...        ...              ...    ...\n",
       "349                  B02764  2/28/2015             3952  39812\n",
       "350                  B02617  2/28/2015             1372  14022\n",
       "351                  B02682  2/28/2015             1386  14472\n",
       "352                  B02512  2/28/2015              230   1803\n",
       "353                  B02765  2/28/2015              747   7753\n",
       "\n",
       "[354 rows x 4 columns]"
      ]
     },
     "execution_count": 26,
     "metadata": {},
     "output_type": "execute_result"
    }
   ],
   "source": [
    "import pandas as pd\n",
    "\n",
    "url = \"https://raw.githubusercontent.com/fivethirtyeight/uber-tlc-foil-response/master/Uber-Jan-Feb-FOIL.csv\"\n",
    "data = pd.read_csv(url)\n",
    "data"
   ]
  },
  {
   "cell_type": "code",
   "execution_count": 27,
   "metadata": {},
   "outputs": [],
   "source": [
    "dataNew = data[['active_vehicles','trips']]"
   ]
  },
  {
   "cell_type": "code",
   "execution_count": 28,
   "metadata": {},
   "outputs": [
    {
     "name": "stdout",
     "output_type": "stream",
     "text": [
      "Index(['dispatching_base_number', 'date', 'active_vehicles', 'trips'], dtype='object')\n"
     ]
    }
   ],
   "source": [
    "#to find the features in the dataset\n",
    "print(data.columns)"
   ]
  },
  {
   "cell_type": "code",
   "execution_count": 29,
   "metadata": {},
   "outputs": [
    {
     "name": "stdout",
     "output_type": "stream",
     "text": [
      "(354, 4)\n"
     ]
    }
   ],
   "source": [
    "#to find the shape of the datastet\n",
    "print(data.shape)"
   ]
  },
  {
   "cell_type": "markdown",
   "metadata": {},
   "source": [
    "b)\tPlot the data distribution of a few features. Discuss their mean and variance."
   ]
  },
  {
   "cell_type": "code",
   "execution_count": 30,
   "metadata": {},
   "outputs": [],
   "source": [
    "import matplotlib.pyplot as plt\n",
    "import seaborn as sns"
   ]
  },
  {
   "cell_type": "code",
   "execution_count": 31,
   "metadata": {},
   "outputs": [
    {
     "data": {
      "image/png": "[encoded data removed]",
      "text/plain": [
       "<Figure size 640x480 with 1 Axes>"
      ]
     },
     "metadata": {},
     "output_type": "display_data"
    }
   ],
   "source": [
    "data['active_vehicles'].hist(bins=20)\n",
    "plt.xlabel('active_vehicles')\n",
    "plt.ylabel('date')\n",
    "plt.title('Histogram of active_vehicles')\n",
    "plt.show()"
   ]
  },
  {
   "cell_type": "code",
   "execution_count": 32,
   "metadata": {},
   "outputs": [
    {
     "data": {
      "image/png": "[encoded data removed]",
      "text/plain": [
       "<Figure size 500x500 with 6 Axes>"
      ]
     },
     "metadata": {},
     "output_type": "display_data"
    }
   ],
   "source": [
    "sns.pairplot(data[['active_vehicles', 'trips']])\n",
    "plt.show()"
   ]
  },
  {
   "cell_type": "code",
   "execution_count": 33,
   "metadata": {},
   "outputs": [
    {
     "name": "stdout",
     "output_type": "stream",
     "text": [
      "active_vehicles     1307.435028\n",
      "trips              11667.316384\n",
      "dtype: float64\n"
     ]
    },
    {
     "name": "stderr",
     "output_type": "stream",
     "text": [
      "/var/folders/yd/0_xjh7m511nbmvmbh8xgbtqr0000gn/T/ipykernel_2486/4191436771.py:2: FutureWarning: The default value of numeric_only in DataFrame.mean is deprecated. In a future version, it will default to False. In addition, specifying 'numeric_only=None' is deprecated. Select only valid columns or specify the value of numeric_only to silence this warning.\n",
      "  mean = data.mean()\n"
     ]
    }
   ],
   "source": [
    "#mean of dataset\n",
    "mean = data.mean()\n",
    "print(mean)"
   ]
  },
  {
   "cell_type": "code",
   "execution_count": 34,
   "metadata": {},
   "outputs": [
    {
     "name": "stdout",
     "output_type": "stream",
     "text": [
      "1307.4350282485875\n"
     ]
    }
   ],
   "source": [
    "#mean of one of the column\n",
    "mean_active_vehicles = data['active_vehicles'].mean()\n",
    "print(mean_active_vehicles)"
   ]
  },
  {
   "cell_type": "code",
   "execution_count": 35,
   "metadata": {},
   "outputs": [
    {
     "name": "stdout",
     "output_type": "stream",
     "text": [
      "active_vehicles    1.351431e+06\n",
      "trips              1.133860e+08\n",
      "dtype: float64\n"
     ]
    },
    {
     "name": "stderr",
     "output_type": "stream",
     "text": [
      "/var/folders/yd/0_xjh7m511nbmvmbh8xgbtqr0000gn/T/ipykernel_2486/3217976520.py:2: FutureWarning: The default value of numeric_only in DataFrame.var is deprecated. In a future version, it will default to False. In addition, specifying 'numeric_only=None' is deprecated. Select only valid columns or specify the value of numeric_only to silence this warning.\n",
      "  variance = data.var()\n"
     ]
    }
   ],
   "source": [
    "#variance of the whole data set\n",
    "variance = data.var()\n",
    "print(variance)"
   ]
  },
  {
   "cell_type": "code",
   "execution_count": 36,
   "metadata": {},
   "outputs": [
    {
     "name": "stdout",
     "output_type": "stream",
     "text": [
      "1351430.9546902257\n"
     ]
    }
   ],
   "source": [
    "variance_active_vehicles = data['active_vehicles'].var()\n",
    "print(variance_active_vehicles)"
   ]
  },
  {
   "cell_type": "markdown",
   "metadata": {},
   "source": [
    "# •\tData Pre-processing:"
   ]
  },
  {
   "cell_type": "markdown",
   "metadata": {},
   "source": [
    "a)\tData cleaning: Find missing data. Remove them and justify your choice"
   ]
  },
  {
   "cell_type": "code",
   "execution_count": 37,
   "metadata": {},
   "outputs": [
    {
     "name": "stdout",
     "output_type": "stream",
     "text": [
      "dispatching_base_number    0\n",
      "date                       0\n",
      "active_vehicles            0\n",
      "trips                      0\n",
      "dtype: int64\n"
     ]
    }
   ],
   "source": [
    "#checking missing value\n",
    "missing_data = data.isnull().sum()\n",
    "print(missing_data)\n",
    "\n",
    "#our given dataset does not have any missing value"
   ]
  },
  {
   "cell_type": "markdown",
   "metadata": {},
   "source": [
    "b)\tData Cleaning: Identify noise in the data. How did you identify the noise? Justify and demonstrate the technique you would use to reduce noise. "
   ]
  },
  {
   "cell_type": "code",
   "execution_count": 38,
   "metadata": {},
   "outputs": [
    {
     "name": "stderr",
     "output_type": "stream",
     "text": [
      "/Library/Frameworks/Python.framework/Versions/3.11/lib/python3.11/site-packages/sklearn/cluster/_kmeans.py:870: FutureWarning: The default value of `n_init` will change from 10 to 'auto' in 1.4. Set the value of `n_init` explicitly to suppress the warning\n",
      "  warnings.warn(\n"
     ]
    }
   ],
   "source": [
    "#Machine learning algorithms: You can use machine learning algorithms to identify noise in the dataset. \n",
    "#For example, you can use clustering algorithms such as k-means to cluster the \n",
    "#data and identify any outliers or noise points that are far from the clusters.\n",
    "\n",
    "from sklearn.cluster import KMeans\n",
    "# cluster data using k-means\n",
    "\n",
    "threshold = 3\n",
    "kmeans = KMeans(n_clusters=3)\n",
    "kmeans.fit(dataNew)\n",
    "\n",
    "# identify noise points that are far from the clusters\n",
    "distances = kmeans.transform(dataNew)\n",
    "noise_indices = distances.max(axis=1) > threshold\n",
    "clean_data = dataNew[~noise_indices]\n",
    "\n"
   ]
  },
  {
   "cell_type": "markdown",
   "metadata": {},
   "source": [
    "c)\tData transformations:  Perform standardizations and normalization. Justify your chosen normalization method. "
   ]
  },
  {
   "cell_type": "markdown",
   "metadata": {},
   "source": [
    "standardizations"
   ]
  },
  {
   "cell_type": "code",
   "execution_count": 39,
   "metadata": {
    "id": "CuJpweiuVX5K"
   },
   "outputs": [
    {
     "name": "stdout",
     "output_type": "stream",
     "text": [
      "active_vehicles    2.007183e-17\n",
      "trips              0.000000e+00\n",
      "dtype: float64\n",
      "active_vehicles    1.001415\n",
      "trips              1.001415\n",
      "dtype: float64\n"
     ]
    }
   ],
   "source": [
    "from sklearn.preprocessing import StandardScaler\n",
    "\n",
    "\n",
    "scaler = StandardScaler()\n",
    "\n",
    "\n",
    "scaled_data = scaler.fit_transform(dataNew)\n",
    "\n",
    "scaled_data = pd.DataFrame(scaled_data, columns=dataNew.columns)\n",
    "\n",
    "\n",
    "print(scaled_data.mean())\n",
    "print(scaled_data.std())"
   ]
  },
  {
   "cell_type": "markdown",
   "metadata": {},
   "source": [
    "normalization"
   ]
  },
  {
   "cell_type": "code",
   "execution_count": 40,
   "metadata": {
    "id": "qL6dAhXaXyZo"
   },
   "outputs": [
    {
     "name": "stdout",
     "output_type": "stream",
     "text": [
      "active_vehicles    0.0\n",
      "trips              0.0\n",
      "dtype: float64\n",
      "active_vehicles    1.0\n",
      "trips              1.0\n",
      "dtype: float64\n"
     ]
    }
   ],
   "source": [
    "from sklearn.preprocessing import MinMaxScaler\n",
    "\n",
    "scaler = MinMaxScaler()\n",
    "\n",
    "\n",
    "normalized_data = scaler.fit_transform(dataNew)\n",
    "\n",
    "\n",
    "normalized_data = pd.DataFrame(normalized_data, columns=dataNew.columns)\n",
    "\n",
    "print(normalized_data.min())\n",
    "print(normalized_data.max())"
   ]
  },
  {
   "cell_type": "markdown",
   "metadata": {},
   "source": [
    "d)\tAny other techniques which are required for your dataset such as adding a data head"
   ]
  },
  {
   "cell_type": "code",
   "execution_count": 41,
   "metadata": {
    "id": "76Mm1rR-MU9x"
   },
   "outputs": [
    {
     "name": "stdout",
     "output_type": "stream",
     "text": [
      "  column1   column2  column3  column4\n",
      "0  B02512  1/1/2015      190     1132\n",
      "1  B02765  1/1/2015      225     1765\n",
      "2  B02764  1/1/2015     3427    29421\n",
      "3  B02682  1/1/2015      945     7679\n",
      "4  B02617  1/1/2015     1228     9537\n"
     ]
    }
   ],
   "source": [
    "\n",
    "header = ['column1', 'column2', 'column3', 'column4']\n",
    "\n",
    "\n",
    "data.columns = header\n",
    "\n",
    "\n",
    "print(data.head())"
   ]
  },
  {
   "cell_type": "code",
   "execution_count": 42,
   "metadata": {
    "colab": {
     "base_uri": "https://localhost:8080/"
    },
    "id": "Dde1mAVBRdtO",
    "outputId": "7ddb874b-b4f5-4e6b-bec9-7d4399051920"
   },
   "outputs": [],
   "source": [
    "df = pd.DataFrame(data)"
   ]
  },
  {
   "cell_type": "code",
   "execution_count": 43,
   "metadata": {
    "colab": {
     "base_uri": "https://localhost:8080/"
    },
    "id": "HlRQs09GRh42",
    "outputId": "3f2cf9d5-e6b7-4dd8-edbb-4b475042f6f2"
   },
   "outputs": [
    {
     "data": {
      "text/html": [
       "<div>\n",
       "<style scoped>\n",
       "    .dataframe tbody tr th:only-of-type {\n",
       "        vertical-align: middle;\n",
       "    }\n",
       "\n",
       "    .dataframe tbody tr th {\n",
       "        vertical-align: top;\n",
       "    }\n",
       "\n",
       "    .dataframe thead th {\n",
       "        text-align: right;\n",
       "    }\n",
       "</style>\n",
       "<table border=\"1\" class=\"dataframe\">\n",
       "  <thead>\n",
       "    <tr style=\"text-align: right;\">\n",
       "      <th></th>\n",
       "      <th>0</th>\n",
       "      <th>1</th>\n",
       "      <th>2</th>\n",
       "      <th>3</th>\n",
       "      <th>4</th>\n",
       "      <th>5</th>\n",
       "      <th>6</th>\n",
       "      <th>7</th>\n",
       "      <th>8</th>\n",
       "      <th>9</th>\n",
       "      <th>...</th>\n",
       "      <th>344</th>\n",
       "      <th>345</th>\n",
       "      <th>346</th>\n",
       "      <th>347</th>\n",
       "      <th>348</th>\n",
       "      <th>349</th>\n",
       "      <th>350</th>\n",
       "      <th>351</th>\n",
       "      <th>352</th>\n",
       "      <th>353</th>\n",
       "    </tr>\n",
       "  </thead>\n",
       "  <tbody>\n",
       "    <tr>\n",
       "      <th>column1</th>\n",
       "      <td>B02512</td>\n",
       "      <td>B02765</td>\n",
       "      <td>B02764</td>\n",
       "      <td>B02682</td>\n",
       "      <td>B02617</td>\n",
       "      <td>B02598</td>\n",
       "      <td>B02598</td>\n",
       "      <td>B02617</td>\n",
       "      <td>B02512</td>\n",
       "      <td>B02682</td>\n",
       "      <td>...</td>\n",
       "      <td>B02598</td>\n",
       "      <td>B02512</td>\n",
       "      <td>B02764</td>\n",
       "      <td>B02682</td>\n",
       "      <td>B02598</td>\n",
       "      <td>B02764</td>\n",
       "      <td>B02617</td>\n",
       "      <td>B02682</td>\n",
       "      <td>B02512</td>\n",
       "      <td>B02765</td>\n",
       "    </tr>\n",
       "    <tr>\n",
       "      <th>column2</th>\n",
       "      <td>1/1/2015</td>\n",
       "      <td>1/1/2015</td>\n",
       "      <td>1/1/2015</td>\n",
       "      <td>1/1/2015</td>\n",
       "      <td>1/1/2015</td>\n",
       "      <td>1/1/2015</td>\n",
       "      <td>1/2/2015</td>\n",
       "      <td>1/2/2015</td>\n",
       "      <td>1/2/2015</td>\n",
       "      <td>1/2/2015</td>\n",
       "      <td>...</td>\n",
       "      <td>2/27/2015</td>\n",
       "      <td>2/27/2015</td>\n",
       "      <td>2/27/2015</td>\n",
       "      <td>2/27/2015</td>\n",
       "      <td>2/28/2015</td>\n",
       "      <td>2/28/2015</td>\n",
       "      <td>2/28/2015</td>\n",
       "      <td>2/28/2015</td>\n",
       "      <td>2/28/2015</td>\n",
       "      <td>2/28/2015</td>\n",
       "    </tr>\n",
       "    <tr>\n",
       "      <th>column3</th>\n",
       "      <td>190</td>\n",
       "      <td>225</td>\n",
       "      <td>3427</td>\n",
       "      <td>945</td>\n",
       "      <td>1228</td>\n",
       "      <td>870</td>\n",
       "      <td>785</td>\n",
       "      <td>1137</td>\n",
       "      <td>175</td>\n",
       "      <td>890</td>\n",
       "      <td>...</td>\n",
       "      <td>1114</td>\n",
       "      <td>272</td>\n",
       "      <td>4253</td>\n",
       "      <td>1510</td>\n",
       "      <td>994</td>\n",
       "      <td>3952</td>\n",
       "      <td>1372</td>\n",
       "      <td>1386</td>\n",
       "      <td>230</td>\n",
       "      <td>747</td>\n",
       "    </tr>\n",
       "    <tr>\n",
       "      <th>column4</th>\n",
       "      <td>1132</td>\n",
       "      <td>1765</td>\n",
       "      <td>29421</td>\n",
       "      <td>7679</td>\n",
       "      <td>9537</td>\n",
       "      <td>6903</td>\n",
       "      <td>4768</td>\n",
       "      <td>7065</td>\n",
       "      <td>875</td>\n",
       "      <td>5506</td>\n",
       "      <td>...</td>\n",
       "      <td>10755</td>\n",
       "      <td>2056</td>\n",
       "      <td>38780</td>\n",
       "      <td>14975</td>\n",
       "      <td>10319</td>\n",
       "      <td>39812</td>\n",
       "      <td>14022</td>\n",
       "      <td>14472</td>\n",
       "      <td>1803</td>\n",
       "      <td>7753</td>\n",
       "    </tr>\n",
       "  </tbody>\n",
       "</table>\n",
       "<p>4 rows × 354 columns</p>\n",
       "</div>"
      ],
      "text/plain": [
       "              0         1         2         3         4         5         6    \\\n",
       "column1    B02512    B02765    B02764    B02682    B02617    B02598    B02598   \n",
       "column2  1/1/2015  1/1/2015  1/1/2015  1/1/2015  1/1/2015  1/1/2015  1/2/2015   \n",
       "column3       190       225      3427       945      1228       870       785   \n",
       "column4      1132      1765     29421      7679      9537      6903      4768   \n",
       "\n",
       "              7         8         9    ...        344        345        346  \\\n",
       "column1    B02617    B02512    B02682  ...     B02598     B02512     B02764   \n",
       "column2  1/2/2015  1/2/2015  1/2/2015  ...  2/27/2015  2/27/2015  2/27/2015   \n",
       "column3      1137       175       890  ...       1114        272       4253   \n",
       "column4      7065       875      5506  ...      10755       2056      38780   \n",
       "\n",
       "               347        348        349        350        351        352  \\\n",
       "column1     B02682     B02598     B02764     B02617     B02682     B02512   \n",
       "column2  2/27/2015  2/28/2015  2/28/2015  2/28/2015  2/28/2015  2/28/2015   \n",
       "column3       1510        994       3952       1372       1386        230   \n",
       "column4      14975      10319      39812      14022      14472       1803   \n",
       "\n",
       "               353  \n",
       "column1     B02765  \n",
       "column2  2/28/2015  \n",
       "column3        747  \n",
       "column4       7753  \n",
       "\n",
       "[4 rows x 354 columns]"
      ]
     },
     "execution_count": 43,
     "metadata": {},
     "output_type": "execute_result"
    }
   ],
   "source": [
    "df.T"
   ]
  },
  {
   "cell_type": "code",
   "execution_count": 44,
   "metadata": {
    "colab": {
     "base_uri": "https://localhost:8080/",
     "height": 144
    },
    "id": "NOgUoMjpSat0",
    "outputId": "881396cc-3711-472e-d145-21c4a4f30d86"
   },
   "outputs": [
    {
     "data": {
      "text/html": [
       "<div>\n",
       "<style scoped>\n",
       "    .dataframe tbody tr th:only-of-type {\n",
       "        vertical-align: middle;\n",
       "    }\n",
       "\n",
       "    .dataframe tbody tr th {\n",
       "        vertical-align: top;\n",
       "    }\n",
       "\n",
       "    .dataframe thead th {\n",
       "        text-align: right;\n",
       "    }\n",
       "</style>\n",
       "<table border=\"1\" class=\"dataframe\">\n",
       "  <thead>\n",
       "    <tr style=\"text-align: right;\">\n",
       "      <th></th>\n",
       "      <th>column1</th>\n",
       "      <th>column2</th>\n",
       "      <th>column3</th>\n",
       "      <th>column4</th>\n",
       "    </tr>\n",
       "  </thead>\n",
       "  <tbody>\n",
       "    <tr>\n",
       "      <th>0</th>\n",
       "      <td>B02512</td>\n",
       "      <td>1/1/2015</td>\n",
       "      <td>190</td>\n",
       "      <td>1132</td>\n",
       "    </tr>\n",
       "    <tr>\n",
       "      <th>1</th>\n",
       "      <td>B02765</td>\n",
       "      <td>1/1/2015</td>\n",
       "      <td>225</td>\n",
       "      <td>1765</td>\n",
       "    </tr>\n",
       "    <tr>\n",
       "      <th>2</th>\n",
       "      <td>B02764</td>\n",
       "      <td>1/1/2015</td>\n",
       "      <td>3427</td>\n",
       "      <td>29421</td>\n",
       "    </tr>\n",
       "  </tbody>\n",
       "</table>\n",
       "</div>"
      ],
      "text/plain": [
       "  column1   column2  column3  column4\n",
       "0  B02512  1/1/2015      190     1132\n",
       "1  B02765  1/1/2015      225     1765\n",
       "2  B02764  1/1/2015     3427    29421"
      ]
     },
     "execution_count": 44,
     "metadata": {},
     "output_type": "execute_result"
    }
   ],
   "source": [
    "\n",
    "\n",
    "df.head(3)\n"
   ]
  },
  {
   "cell_type": "code",
   "execution_count": 45,
   "metadata": {
    "colab": {
     "base_uri": "https://localhost:8080/"
    },
    "id": "9aXRWMDxSawi",
    "outputId": "b5eef0cd-132d-405a-cfe9-9264b95fe0c0"
   },
   "outputs": [
    {
     "data": {
      "text/plain": [
       "[RangeIndex(start=0, stop=354, step=1),\n",
       " Index(['column1', 'column2', 'column3', 'column4'], dtype='object')]"
      ]
     },
     "execution_count": 45,
     "metadata": {},
     "output_type": "execute_result"
    }
   ],
   "source": [
    "df.axes"
   ]
  },
  {
   "cell_type": "code",
   "execution_count": 59,
   "metadata": {
    "colab": {
     "base_uri": "https://localhost:8080/"
    },
    "id": "VK_bz-YfSazS",
    "outputId": "50ab3c9d-2328-493a-f907-8ce3aefe2455"
   },
   "outputs": [
    {
     "data": {
      "text/plain": [
       "column1    object\n",
       "column2    object\n",
       "column3     int64\n",
       "column4     int64\n",
       "dtype: object"
      ]
     },
     "execution_count": 59,
     "metadata": {},
     "output_type": "execute_result"
    }
   ],
   "source": [
    "df.dtypes"
   ]
  },
  {
   "cell_type": "code",
   "execution_count": null,
   "metadata": {},
   "outputs": [],
   "source": []
  }
 ],
 "metadata": {
  "colab": {
   "name": "Introduction to Pandas.ipynb",
   "provenance": []
  },
  "kernelspec": {
   "display_name": "Python 3 (ipykernel)",
   "language": "python",
   "name": "python3"
  },
  "language_info": {
   "codemirror_mode": {
    "name": "ipython",
    "version": 3
   },
   "file_extension": ".py",
   "mimetype": "text/x-python",
   "name": "python",
   "nbconvert_exporter": "python",
   "pygments_lexer": "ipython3",
   "version": "3.11.2"
  }
 },
 "nbformat": 4,
 "nbformat_minor": 1
}
