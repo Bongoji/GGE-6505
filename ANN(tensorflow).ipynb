{
 "cells": [
  {
   "cell_type": "code",
   "execution_count": 1,
   "id": "08700121",
   "metadata": {},
   "outputs": [
    {
     "ename": "ModuleNotFoundError",
     "evalue": "No module named 'tensorflow'",
     "output_type": "error",
     "traceback": [
      "\u001b[0;31m---------------------------------------------------------------------------\u001b[0m",
      "\u001b[0;31mModuleNotFoundError\u001b[0m                       Traceback (most recent call last)",
      "Cell \u001b[0;32mIn[1], line 2\u001b[0m\n\u001b[1;32m      1\u001b[0m \u001b[38;5;28;01mimport\u001b[39;00m \u001b[38;5;21;01mpandas\u001b[39;00m \u001b[38;5;28;01mas\u001b[39;00m \u001b[38;5;21;01mpd\u001b[39;00m\n\u001b[0;32m----> 2\u001b[0m \u001b[38;5;28;01mimport\u001b[39;00m \u001b[38;5;21;01mtensorflow\u001b[39;00m \u001b[38;5;28;01mas\u001b[39;00m \u001b[38;5;21;01mtf\u001b[39;00m\n\u001b[1;32m      3\u001b[0m \u001b[38;5;28;01mfrom\u001b[39;00m \u001b[38;5;21;01msklearn\u001b[39;00m\u001b[38;5;21;01m.\u001b[39;00m\u001b[38;5;21;01mmodel_selection\u001b[39;00m \u001b[38;5;28;01mimport\u001b[39;00m train_test_split\n\u001b[1;32m      4\u001b[0m \u001b[38;5;28;01mfrom\u001b[39;00m \u001b[38;5;21;01msklearn\u001b[39;00m\u001b[38;5;21;01m.\u001b[39;00m\u001b[38;5;21;01mpreprocessing\u001b[39;00m \u001b[38;5;28;01mimport\u001b[39;00m StandardScaler\n",
      "\u001b[0;31mModuleNotFoundError\u001b[0m: No module named 'tensorflow'"
     ]
    }
   ],
   "source": [
    "import pandas as pd\n",
    "import tensorflow as tf\n",
    "from sklearn.model_selection import train_test_split\n",
    "from sklearn.preprocessing import StandardScaler\n",
    "import matplotlib.pyplot as plt\n",
    "import seaborn as sns\n",
    "from sklearn.metrics import confusion_matrix, classification_report\n",
    "from keras.models import Sequential\n",
    "from keras.layers import Dense, Dropout\n",
    "from keras.utils import to_categorical\n",
    "from sklearn.metrics import mean_squared_error, mean_absolute_error"
   ]
  },
  {
   "cell_type": "code",
   "execution_count": 39,
   "id": "eb52274b",
   "metadata": {},
   "outputs": [
    {
     "name": "stdout",
     "output_type": "stream",
     "text": [
      "fixed acidity           0\n",
      "volatile acidity        0\n",
      "citric acid             0\n",
      "residual sugar          0\n",
      "chlorides               0\n",
      "free sulfur dioxide     0\n",
      "total sulfur dioxide    0\n",
      "density                 0\n",
      "pH                      0\n",
      "sulphates               0\n",
      "alcohol                 0\n",
      "quality                 0\n",
      "dtype: int64\n",
      "       fixed acidity  volatile acidity  citric acid  residual sugar  \\\n",
      "count    1599.000000       1599.000000  1599.000000     1599.000000   \n",
      "mean        8.319637          0.527821     0.270976        2.538806   \n",
      "std         1.741096          0.179060     0.194801        1.409928   \n",
      "min         4.600000          0.120000     0.000000        0.900000   \n",
      "25%         7.100000          0.390000     0.090000        1.900000   \n",
      "50%         7.900000          0.520000     0.260000        2.200000   \n",
      "75%         9.200000          0.640000     0.420000        2.600000   \n",
      "max        15.900000          1.580000     1.000000       15.500000   \n",
      "\n",
      "         chlorides  free sulfur dioxide  total sulfur dioxide      density  \\\n",
      "count  1599.000000          1599.000000           1599.000000  1599.000000   \n",
      "mean      0.087467            15.874922             46.467792     0.996747   \n",
      "std       0.047065            10.460157             32.895324     0.001887   \n",
      "min       0.012000             1.000000              6.000000     0.990070   \n",
      "25%       0.070000             7.000000             22.000000     0.995600   \n",
      "50%       0.079000            14.000000             38.000000     0.996750   \n",
      "75%       0.090000            21.000000             62.000000     0.997835   \n",
      "max       0.611000            72.000000            289.000000     1.003690   \n",
      "\n",
      "                pH    sulphates      alcohol      quality  \n",
      "count  1599.000000  1599.000000  1599.000000  1599.000000  \n",
      "mean      3.311113     0.658149    10.422983     5.636023  \n",
      "std       0.154386     0.169507     1.065668     0.807569  \n",
      "min       2.740000     0.330000     8.400000     3.000000  \n",
      "25%       3.210000     0.550000     9.500000     5.000000  \n",
      "50%       3.310000     0.620000    10.200000     6.000000  \n",
      "75%       3.400000     0.730000    11.100000     6.000000  \n",
      "max       4.010000     2.000000    14.900000     8.000000  \n"
     ]
    }
   ],
   "source": [
    "# Load the wine quality dataset into a pandas DataFrame\n",
    "wine_data = pd.read_csv(\"https://archive.ics.uci.edu/ml/machine-learning-databases/wine-quality/winequality-red.csv\", delimiter=\";\")\n",
    "\n",
    "# Check for any missing values or data inconsistencies\n",
    "print(wine_data.isnull().sum())\n",
    "print(wine_data.describe())"
   ]
  },
  {
   "cell_type": "code",
   "execution_count": 40,
   "id": "accdcac7",
   "metadata": {},
   "outputs": [],
   "source": [
    "# Split the dataset into training and testing sets\n",
    "X = wine_data.drop('quality', axis=1)\n",
    "y = wine_data['quality']\n",
    "y = to_categorical(y, num_classes=11)\n",
    "X_train, X_test, y_train, y_test = train_test_split(X, y, test_size=0.3, random_state=42)"
   ]
  },
  {
   "cell_type": "code",
   "execution_count": 41,
   "id": "5264d09e",
   "metadata": {},
   "outputs": [],
   "source": [
    "# Scale the features using StandardScaler\n",
    "scaler = StandardScaler()\n",
    "X_train = scaler.fit_transform(X_train)\n",
    "X_test = scaler.transform(X_test)"
   ]
  },
  {
   "cell_type": "code",
   "execution_count": 42,
   "id": "babc63ac",
   "metadata": {},
   "outputs": [],
   "source": [
    "# Define the ANN model using TensorFlow\n",
    "model = tf.keras.models.Sequential([\n",
    "  tf.keras.layers.Dense(64, activation='relu', input_shape=(11,)),\n",
    "  tf.keras.layers.Dense(64, activation='relu'),\n",
    "  tf.keras.layers.Dense(1)\n",
    "])"
   ]
  },
  {
   "cell_type": "code",
   "execution_count": 43,
   "id": "4fd32842",
   "metadata": {},
   "outputs": [
    {
     "name": "stdout",
     "output_type": "stream",
     "text": [
      "Epoch 1/50\n",
      "35/35 [==============================] - 1s 7ms/step - loss: 0.1158 - val_loss: 0.0905\n",
      "Epoch 2/50\n",
      "35/35 [==============================] - 0s 3ms/step - loss: 0.0881 - val_loss: 0.0868\n",
      "Epoch 3/50\n",
      "35/35 [==============================] - 0s 3ms/step - loss: 0.0854 - val_loss: 0.0853\n",
      "Epoch 4/50\n",
      "35/35 [==============================] - 0s 4ms/step - loss: 0.0847 - val_loss: 0.0848\n",
      "Epoch 5/50\n",
      "35/35 [==============================] - 0s 3ms/step - loss: 0.0842 - val_loss: 0.0845\n",
      "Epoch 6/50\n",
      "35/35 [==============================] - 0s 2ms/step - loss: 0.0838 - val_loss: 0.0842\n",
      "Epoch 7/50\n",
      "35/35 [==============================] - 0s 3ms/step - loss: 0.0836 - val_loss: 0.0841\n",
      "Epoch 8/50\n",
      "35/35 [==============================] - 0s 3ms/step - loss: 0.0835 - val_loss: 0.0841\n",
      "Epoch 9/50\n",
      "35/35 [==============================] - 0s 3ms/step - loss: 0.0834 - val_loss: 0.0838\n",
      "Epoch 10/50\n",
      "35/35 [==============================] - 0s 3ms/step - loss: 0.0833 - val_loss: 0.0840\n",
      "Epoch 11/50\n",
      "35/35 [==============================] - 0s 3ms/step - loss: 0.0833 - val_loss: 0.0837\n",
      "Epoch 12/50\n",
      "35/35 [==============================] - 0s 3ms/step - loss: 0.0831 - val_loss: 0.0837\n",
      "Epoch 13/50\n",
      "35/35 [==============================] - 0s 3ms/step - loss: 0.0831 - val_loss: 0.0837\n",
      "Epoch 14/50\n",
      "35/35 [==============================] - 0s 4ms/step - loss: 0.0831 - val_loss: 0.0836\n",
      "Epoch 15/50\n",
      "35/35 [==============================] - 0s 3ms/step - loss: 0.0831 - val_loss: 0.0837\n",
      "Epoch 16/50\n",
      "35/35 [==============================] - 0s 2ms/step - loss: 0.0830 - val_loss: 0.0836\n",
      "Epoch 17/50\n",
      "35/35 [==============================] - 0s 3ms/step - loss: 0.0830 - val_loss: 0.0835\n",
      "Epoch 18/50\n",
      "35/35 [==============================] - 0s 3ms/step - loss: 0.0829 - val_loss: 0.0834\n",
      "Epoch 19/50\n",
      "35/35 [==============================] - 0s 3ms/step - loss: 0.0829 - val_loss: 0.0834\n",
      "Epoch 20/50\n",
      "35/35 [==============================] - 0s 3ms/step - loss: 0.0829 - val_loss: 0.0834\n",
      "Epoch 21/50\n",
      "35/35 [==============================] - 0s 2ms/step - loss: 0.0829 - val_loss: 0.0834\n",
      "Epoch 22/50\n",
      "35/35 [==============================] - 0s 3ms/step - loss: 0.0829 - val_loss: 0.0834\n",
      "Epoch 23/50\n",
      "35/35 [==============================] - 0s 3ms/step - loss: 0.0829 - val_loss: 0.0833\n",
      "Epoch 24/50\n",
      "35/35 [==============================] - 0s 3ms/step - loss: 0.0829 - val_loss: 0.0834\n",
      "Epoch 25/50\n",
      "35/35 [==============================] - 0s 3ms/step - loss: 0.0828 - val_loss: 0.0833\n",
      "Epoch 26/50\n",
      "35/35 [==============================] - 0s 3ms/step - loss: 0.0828 - val_loss: 0.0833\n",
      "Epoch 27/50\n",
      "35/35 [==============================] - 0s 3ms/step - loss: 0.0828 - val_loss: 0.0833\n",
      "Epoch 28/50\n",
      "35/35 [==============================] - 0s 3ms/step - loss: 0.0828 - val_loss: 0.0833\n",
      "Epoch 29/50\n",
      "35/35 [==============================] - 0s 3ms/step - loss: 0.0828 - val_loss: 0.0832\n",
      "Epoch 30/50\n",
      "35/35 [==============================] - 0s 3ms/step - loss: 0.0828 - val_loss: 0.0833\n",
      "Epoch 31/50\n",
      "35/35 [==============================] - 0s 3ms/step - loss: 0.0828 - val_loss: 0.0832\n",
      "Epoch 32/50\n",
      "35/35 [==============================] - 0s 3ms/step - loss: 0.0828 - val_loss: 0.0832\n",
      "Epoch 33/50\n",
      "35/35 [==============================] - 0s 4ms/step - loss: 0.0828 - val_loss: 0.0833\n",
      "Epoch 34/50\n",
      "35/35 [==============================] - 0s 3ms/step - loss: 0.0828 - val_loss: 0.0833\n",
      "Epoch 35/50\n",
      "35/35 [==============================] - 0s 4ms/step - loss: 0.0828 - val_loss: 0.0832\n",
      "Epoch 36/50\n",
      "35/35 [==============================] - 0s 4ms/step - loss: 0.0828 - val_loss: 0.0832\n",
      "Epoch 37/50\n",
      "35/35 [==============================] - 0s 4ms/step - loss: 0.0828 - val_loss: 0.0832\n",
      "Epoch 38/50\n",
      "35/35 [==============================] - 0s 3ms/step - loss: 0.0828 - val_loss: 0.0832\n",
      "Epoch 39/50\n",
      "35/35 [==============================] - 0s 3ms/step - loss: 0.0828 - val_loss: 0.0832\n",
      "Epoch 40/50\n",
      "35/35 [==============================] - 0s 3ms/step - loss: 0.0828 - val_loss: 0.0832\n",
      "Epoch 41/50\n",
      "35/35 [==============================] - 0s 3ms/step - loss: 0.0828 - val_loss: 0.0832\n",
      "Epoch 42/50\n",
      "35/35 [==============================] - 0s 3ms/step - loss: 0.0828 - val_loss: 0.0832\n",
      "Epoch 43/50\n",
      "35/35 [==============================] - 0s 3ms/step - loss: 0.0828 - val_loss: 0.0833\n",
      "Epoch 44/50\n",
      "35/35 [==============================] - 0s 2ms/step - loss: 0.0829 - val_loss: 0.0835\n",
      "Epoch 45/50\n",
      "35/35 [==============================] - 0s 3ms/step - loss: 0.0830 - val_loss: 0.0832\n",
      "Epoch 46/50\n",
      "35/35 [==============================] - 0s 3ms/step - loss: 0.0828 - val_loss: 0.0831\n",
      "Epoch 47/50\n",
      "35/35 [==============================] - 0s 3ms/step - loss: 0.0829 - val_loss: 0.0842\n",
      "Epoch 48/50\n",
      "35/35 [==============================] - 0s 4ms/step - loss: 0.0834 - val_loss: 0.0840\n",
      "Epoch 49/50\n",
      "35/35 [==============================] - 0s 3ms/step - loss: 0.0835 - val_loss: 0.0835\n",
      "Epoch 50/50\n",
      "35/35 [==============================] - 0s 3ms/step - loss: 0.0830 - val_loss: 0.0832\n"
     ]
    }
   ],
   "source": [
    "# Train the ANN model on the training data\n",
    "model.compile(optimizer='adam', loss='mse')\n",
    "history = model.fit(X_train, y_train, batch_size=32, epochs=50, verbose=1, validation_data=(X_test, y_test))"
   ]
  },
  {
   "cell_type": "code",
   "execution_count": 44,
   "id": "025936a9",
   "metadata": {},
   "outputs": [
    {
     "name": "stdout",
     "output_type": "stream",
     "text": [
      "15/15 [==============================] - 0s 2ms/step - loss: 0.0832\n",
      "Mean Squared Error:  0.08324523270130157\n"
     ]
    }
   ],
   "source": [
    "# Evaluate the performance of the trained model on the testing data\n",
    "mse = model.evaluate(X_test, y_test)\n",
    "print(\"Mean Squared Error: \", mse)"
   ]
  },
  {
   "cell_type": "code",
   "execution_count": 45,
   "id": "35879e6e",
   "metadata": {},
   "outputs": [
    {
     "data": {
      "image/png": "[encoded data removed]",
      "text/plain": [
       "<Figure size 800x600 with 1 Axes>"
      ]
     },
     "metadata": {},
     "output_type": "display_data"
    }
   ],
   "source": [
    "# Visualize the model's training and validation loss over epochs\n",
    "plt.figure(figsize=(8,6))\n",
    "plt.plot(history.history['loss'], label='Training Loss')\n",
    "plt.plot(history.history['val_loss'], label='Validation Loss')\n",
    "plt.title('Model Loss')\n",
    "plt.xlabel('Epoch')\n",
    "plt.ylabel('Loss')\n",
    "plt.legend()\n",
    "plt.show()"
   ]
  },
  {
   "cell_type": "code",
   "execution_count": 46,
   "id": "2e196117",
   "metadata": {},
   "outputs": [],
   "source": [
    "mae = mean_absolute_error(X_test, y_test)"
   ]
  },
  {
   "cell_type": "code",
   "execution_count": 47,
   "id": "565126b5",
   "metadata": {},
   "outputs": [
    {
     "name": "stdout",
     "output_type": "stream",
     "text": [
      "MAE: 0.7918511855246081\n"
     ]
    }
   ],
   "source": [
    "print(\"MAE:\", mae)"
   ]
  },
  {
   "cell_type": "code",
   "execution_count": 48,
   "id": "41b37b0c",
   "metadata": {},
   "outputs": [
    {
     "data": {
      "image/png": "[encoded data removed]",
      "text/plain": [
       "<Figure size 640x480 with 1 Axes>"
      ]
     },
     "metadata": {},
     "output_type": "display_data"
    }
   ],
   "source": [
    "# Plot the training loss and validation loss over time\n",
    "plt.plot(history.history['loss'], label='Training Loss')\n",
    "plt.xlabel('Epoch')\n",
    "plt.ylabel('Loss')\n",
    "plt.legend()\n",
    "plt.show()"
   ]
  },
  {
   "cell_type": "code",
   "execution_count": null,
   "id": "7a939a7f",
   "metadata": {},
   "outputs": [],
   "source": []
  }
 ],
 "metadata": {
  "kernelspec": {
   "display_name": "Python 3 (ipykernel)",
   "language": "python",
   "name": "python3"
  },
  "language_info": {
   "codemirror_mode": {
    "name": "ipython",
    "version": 3
   },
   "file_extension": ".py",
   "mimetype": "text/x-python",
   "name": "python",
   "nbconvert_exporter": "python",
   "pygments_lexer": "ipython3",
   "version": "3.11.2"
  }
 },
 "nbformat": 4,
 "nbformat_minor": 5
}
